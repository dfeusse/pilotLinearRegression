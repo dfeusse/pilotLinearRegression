{
 "cells": [
  {
   "cell_type": "markdown",
   "metadata": {},
   "source": [
    "# A. Data Analysis"
   ]
  },
  {
   "cell_type": "code",
   "execution_count": 26,
   "metadata": {},
   "outputs": [],
   "source": [
    "import math\n",
    "import numpy as np\n",
    "import pandas as pd\n",
    "import matplotlib.pyplot as plot\n",
    "from sklearn.linear_model import LinearRegression\n",
    "from sklearn.metrics import r2_score\n",
    "import statsmodels.api as sm"
   ]
  },
  {
   "cell_type": "code",
   "execution_count": 27,
   "metadata": {},
   "outputs": [],
   "source": [
    "# Load data\n",
    "dataset = pd.read_csv('DFMarketAnalysisAssignmentData.csv')\n",
    "#print dataset.head()\n",
    "\n",
    "# inputs = spend\n",
    "# outputs = enrollments\n",
    "xSpendMailers = dataset.iloc[:, 2].values.reshape((-1, 1))\n",
    "xSpendRadio = dataset.iloc[:, 3].values.reshape((-1, 1))\n",
    "yEnrollments = dataset.iloc[:, 1].values\n",
    "\n",
    "#print(yEnrollments)\n",
    "#print(xSpendMailers)\n",
    "#print(xSpendRadio)"
   ]
  },
  {
   "cell_type": "markdown",
   "metadata": {},
   "source": [
    "## Regression - Mailers"
   ]
  },
  {
   "cell_type": "code",
   "execution_count": 28,
   "metadata": {},
   "outputs": [
    {
     "name": "stdout",
     "output_type": "stream",
     "text": [
      "coefficient of determination: 0.1908698431535677\n",
      "intercept: 4.953125\n",
      "slope: [0.01007813]\n"
     ]
    }
   ],
   "source": [
    "# Set up the model\n",
    "model = LinearRegression()\n",
    "# Fit the model\n",
    "model.fit(xSpendMailers, yEnrollments)\n",
    "# Check the score\n",
    "r_sq = model.score(xSpendMailers, yEnrollments)\n",
    "print('coefficient of determination:', r_sq)\n",
    "print('intercept:', model.intercept_)\n",
    "print('slope:', model.coef_)"
   ]
  },
  {
   "cell_type": "markdown",
   "metadata": {},
   "source": [
    "## Regression - Radio"
   ]
  },
  {
   "cell_type": "code",
   "execution_count": 29,
   "metadata": {},
   "outputs": [
    {
     "name": "stdout",
     "output_type": "stream",
     "text": [
      "coefficient of determination: 0.004877215275969182\n",
      "intercept: 5.288135593220339\n",
      "slope: [0.00035593]\n"
     ]
    }
   ],
   "source": [
    "model = LinearRegression()\n",
    "model.fit(xSpendRadio, yEnrollments)\n",
    "r_sq = model.score(xSpendRadio, yEnrollments)\n",
    "print('coefficient of determination:', r_sq)\n",
    "print('intercept:', model.intercept_)\n",
    "print('slope:', model.coef_)"
   ]
  },
  {
   "cell_type": "markdown",
   "metadata": {},
   "source": [
    "## Multiregression & p-value\n",
    "##### Ran regression with both spends to see which had a lower p-value"
   ]
  },
  {
   "cell_type": "code",
   "execution_count": 30,
   "metadata": {},
   "outputs": [
    {
     "name": "stdout",
     "output_type": "stream",
     "text": [
      "                            OLS Regression Results                            \n",
      "==============================================================================\n",
      "Dep. Variable:            Enrollments   R-squared:                       0.205\n",
      "Model:                            OLS   Adj. R-squared:                  0.181\n",
      "Method:                 Least Squares   F-statistic:                     8.535\n",
      "Date:                Thu, 05 Nov 2020   Prob (F-statistic):           0.000505\n",
      "Time:                        21:57:54   Log-Likelihood:                -178.13\n",
      "No. Observations:                  69   AIC:                             362.3\n",
      "Df Residuals:                      66   BIC:                             369.0\n",
      "Df Model:                           2                                         \n",
      "Covariance Type:            nonrobust                                         \n",
      "==============================================================================\n",
      "                 coef    std err          t      P>|t|      [0.025      0.975]\n",
      "------------------------------------------------------------------------------\n",
      "const          4.7593      0.445     10.694      0.000       3.871       5.648\n",
      "x1             0.0104      0.003      4.082      0.000       0.005       0.015\n",
      "x2             0.0006      0.001      1.102      0.274      -0.001       0.002\n",
      "==============================================================================\n",
      "Omnibus:                       32.168   Durbin-Watson:                   1.289\n",
      "Prob(Omnibus):                  0.000   Jarque-Bera (JB):               59.473\n",
      "Skew:                           1.699   Prob(JB):                     1.22e-13\n",
      "Kurtosis:                       6.022   Cond. No.                         861.\n",
      "==============================================================================\n",
      "\n",
      "Warnings:\n",
      "[1] Standard Errors assume that the covariance matrix of the errors is correctly specified.\n"
     ]
    }
   ],
   "source": [
    "X = np.column_stack((dataset['SpendMailers'], dataset['SpendRadio']))\n",
    "y = dataset['Enrollments']\n",
    "X2 = sm.add_constant(X)\n",
    "est = sm.OLS(y, X2)\n",
    "est2 = est.fit()\n",
    "print(est2.summary())"
   ]
  },
  {
   "cell_type": "markdown",
   "metadata": {},
   "source": [
    "## Correlation"
   ]
  },
  {
   "cell_type": "code",
   "execution_count": 31,
   "metadata": {},
   "outputs": [
    {
     "name": "stdout",
     "output_type": "stream",
     "text": [
      "Mailers correlation:                SpendMailers  Enrollments\n",
      "SpendMailers      1.000000     0.436887\n",
      "Enrollments       0.436887     1.000000\n",
      "             SpendRadio  Enrollments\n",
      "SpendRadio     1.000000     0.069837\n",
      "Enrollments    0.069837     1.000000\n"
     ]
    }
   ],
   "source": [
    "cc = dataset[[\"SpendMailers\", \"Enrollments\"]].corr()\n",
    "print('Mailers correlation')\n",
    "print(cc)\n",
    "\n",
    "print ('----------')\n",
    "\n",
    "print('Radio correlation')\n",
    "cc = dataset[[\"SpendRadio\", \"Enrollments\"]].corr()\n",
    "print(cc)"
   ]
  },
  {
   "cell_type": "markdown",
   "metadata": {},
   "source": [
    "## Basic Analysis\n",
    "##### Performed basic analysis verifying mailers were more efficient than radio"
   ]
  },
  {
   "cell_type": "markdown",
   "metadata": {},
   "source": [
    "| Days      | Spend per day | Channel | Avg  | Min  | Max | Cost per acquisition |\n",
    "|-----------|-------|--------|------|------|-----|----------------------|\n",
    "| 54 Days   | 0     | na     | 4.76 | 2    | 15  | 0                   |\n",
    "| Day 29-38 | 2000  | Radio  | 6    | 2    | 18  | 1613               |\n",
    "| Day 63-67 | 600   | Mailer | 11   | 8    | 16  | 96                  |"
   ]
  },
  {
   "cell_type": "markdown",
   "metadata": {},
   "source": [
    "## Verify mailers regression output\n",
    "##### Ran regression using another Python library to verify my regression output was correct"
   ]
  },
  {
   "cell_type": "code",
   "execution_count": 33,
   "metadata": {},
   "outputs": [
    {
     "name": "stdout",
     "output_type": "stream",
     "text": [
      "                            OLS Regression Results                            \n",
      "==============================================================================\n",
      "Dep. Variable:            Enrollments   R-squared:                       0.191\n",
      "Model:                            OLS   Adj. R-squared:                  0.179\n",
      "Method:                 Least Squares   F-statistic:                     15.80\n",
      "Date:                Fri, 06 Nov 2020   Prob (F-statistic):           0.000175\n",
      "Time:                        07:20:34   Log-Likelihood:                -178.76\n",
      "No. Observations:                  69   AIC:                             361.5\n",
      "Df Residuals:                      67   BIC:                             366.0\n",
      "Df Model:                           1                                         \n",
      "Covariance Type:            nonrobust                                         \n",
      "================================================================================\n",
      "                   coef    std err          t      P>|t|      [0.025      0.975]\n",
      "--------------------------------------------------------------------------------\n",
      "const            4.9531      0.409     12.097      0.000       4.136       5.770\n",
      "SpendMailers     0.0101      0.003      3.976      0.000       0.005       0.015\n",
      "==============================================================================\n",
      "Omnibus:                       39.015   Durbin-Watson:                   1.255\n",
      "Prob(Omnibus):                  0.000   Jarque-Bera (JB):               87.908\n",
      "Skew:                           1.953   Prob(JB):                     8.15e-20\n",
      "Kurtosis:                       6.913   Cond. No.                         168.\n",
      "==============================================================================\n",
      "\n",
      "Warnings:\n",
      "[1] Standard Errors assume that the covariance matrix of the errors is correctly specified.\n"
     ]
    }
   ],
   "source": [
    "X = dataset['SpendMailers']\n",
    "y = dataset['Enrollments']\n",
    "X2 = sm.add_constant(X)\n",
    "est = sm.OLS(y, X2)\n",
    "est2 = est.fit()\n",
    "print(est2.summary())"
   ]
  },
  {
   "cell_type": "markdown",
   "metadata": {},
   "source": [
    "# B. Programming Task"
   ]
  },
  {
   "cell_type": "markdown",
   "metadata": {},
   "source": [
    "In your day-to-day, you may need to handle making videos from a large number of still images. Please write a script that takes as input a directory with an arbitrary number of still images, and creates an mp4 video. You may leverage FFMPEG."
   ]
  },
  {
   "cell_type": "code",
   "execution_count": null,
   "metadata": {},
   "outputs": [],
   "source": []
  }
 ],
 "metadata": {
  "kernelspec": {
   "display_name": "Python 3",
   "language": "python",
   "name": "python3"
  },
  "language_info": {
   "codemirror_mode": {
    "name": "ipython",
    "version": 3
   },
   "file_extension": ".py",
   "mimetype": "text/x-python",
   "name": "python",
   "nbconvert_exporter": "python",
   "pygments_lexer": "ipython3",
   "version": "3.8.3"
  }
 },
 "nbformat": 4,
 "nbformat_minor": 4
}
